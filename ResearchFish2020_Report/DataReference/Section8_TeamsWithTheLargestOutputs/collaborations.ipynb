{
 "cells": [
  {
   "cell_type": "code",
   "execution_count": 1,
   "metadata": {},
   "outputs": [],
   "source": [
    "import copy\n",
    "import pandas as pd\n",
    "import numpy as np\n",
    "\n",
    "EXCEL_FILE = \"datasets/hdruk_researchfish_2020.xlsx\"\n",
    "DATA = []"
   ]
  },
  {
   "cell_type": "code",
   "execution_count": 2,
   "metadata": {},
   "outputs": [],
   "source": [
    "# Reading in Excel Sheets\n",
    "awards = pd.read_excel(EXCEL_FILE, sheet_name=\"1A Awards\").rename(columns={\"Award Reference\": \"id\"}).set_index('id').dropna(axis=1).convert_dtypes()\n",
    "pubs = pd.read_excel(EXCEL_FILE, sheet_name=\"Pub V2\").rename(columns={\"Publication ID\": \"id\"}).set_index('id').dropna(axis=1).convert_dtypes()\n",
    "collabs = pd.read_excel(EXCEL_FILE, sheet_name=\"1C Collabs\").set_index('id').convert_dtypes()\n",
    "further_funding = pd.read_excel(EXCEL_FILE, sheet_name=\"1D Further Funding\").set_index('id').dropna(axis=1).convert_dtypes()\n",
    "next_destination = pd.read_excel(EXCEL_FILE, sheet_name=\"1E Next Destination\").set_index('id').dropna(axis=1).convert_dtypes()\n",
    "skills_shortage = pd.read_excel(EXCEL_FILE, sheet_name=\"1F Skills Shortage\").rename(columns={\"ID\": \"id\"}).dropna(axis=1).convert_dtypes()\n",
    "secondments = pd.read_excel(EXCEL_FILE, sheet_name=\"1F Secondments\").set_index('id').dropna(axis=1).convert_dtypes()\n",
    "engagements = pd.read_excel(EXCEL_FILE, sheet_name=\"1H Engagements\").set_index('id').dropna(axis=1).convert_dtypes()\n",
    "policies = pd.read_excel(EXCEL_FILE, sheet_name=\"1I Policy\").set_index('id').dropna(axis=1).convert_dtypes()\n",
    "tools = pd.read_excel(EXCEL_FILE, sheet_name=\"1J Tools\").set_index('id').dropna(axis=1).convert_dtypes()\n",
    "databases = pd.read_excel(EXCEL_FILE, sheet_name=\"1K Databases\").set_index('id').dropna(axis=1).convert_dtypes()\n",
    "software = pd.read_excel(EXCEL_FILE, sheet_name=\"1L Software\").set_index('id').dropna(axis=1).convert_dtypes()\n",
    "artistic = pd.read_excel(EXCEL_FILE, sheet_name=\"1M Artistic Creative\").set_index('id').dropna(axis=1).convert_dtypes()\n",
    "products = pd.read_excel(EXCEL_FILE, sheet_name=\"1O Products\").set_index('id').dropna(axis=1).convert_dtypes()\n",
    "recognition = pd.read_excel(EXCEL_FILE, sheet_name=\"1R Awards Recognition\").set_index('id').dropna(axis=1).convert_dtypes()\n",
    "facilities = pd.read_excel(EXCEL_FILE, sheet_name=\"1S Facilities\").set_index('id').dropna(axis=1).convert_dtypes()\n",
    "other = pd.read_excel(EXCEL_FILE, sheet_name=\"1T Other\").set_index('id').dropna(axis=1).convert_dtypes()\n",
    "animal_use = pd.read_excel(EXCEL_FILE, sheet_name=\"1U Animal Use\").rename(columns={\"ID\": \"id\"}).set_index('id').dropna(axis=1).convert_dtypes()\n"
   ]
  },
  {
   "cell_type": "code",
   "execution_count": 56,
   "metadata": {
    "tags": []
   },
   "outputs": [
    {
     "output_type": "execute_result",
     "data": {
      "text/plain": [
       "array(['Infrastructure', 'PPIE', 'Training', 'Applied Analytics',\n",
       "       'Better Care', 'Human Phenome', 'Aetiology of Disease',\n",
       "       'Clinical Trials', 'Improving Public Health', 'Sprint Exemplars',\n",
       "       'Data and Connectivity', 'Fellowship'], dtype=object)"
      ]
     },
     "metadata": {},
     "execution_count": 56
    }
   ],
   "source": [
    "# Map Priority Areas\n",
    "def priority_area(row):\n",
    "    PRIORITY_AREA_MAP = {\n",
    "        \"central infrastructure activities\": \"Infrastructure\",\n",
    "        \"central PPPEI activities\": \"PPIE\",\n",
    "        \"central training activities\": \"Training\",\n",
    "        \"Applied Analytics\": \"Applied Analytics\",\n",
    "        \"Better Care\": \"Better Care\",\n",
    "        \"Human Phenome\": \"Human Phenome\",\n",
    "        \"Understanding Causes of Disease\": \"Aetiology of Disease\",\n",
    "        \"Clinical Trials\": \"Clinical Trials\",\n",
    "        \"Improving Public Health\": \"Improving Public Health\",\n",
    "        \"ISCF HDRUK DIH Sprint Exemplar\": \"Sprint Exemplars\",\n",
    "        \"Innovation Gateway\" : \"Infrastructure\",\n",
    "        \"Data and Connectivity\": \"Data and Connectivity\",\n",
    "\n",
    "    }\n",
    "    for k in list(PRIORITY_AREA_MAP.keys()):\n",
    "        if k in row['Award Title']:\n",
    "            return PRIORITY_AREA_MAP[k]\n",
    "    return \"Fellowship\"\n",
    "\n",
    "\n",
    "awards['priority area'] = awards.apply(lambda row: priority_area(row), axis=1)"
   ]
  },
  {
   "cell_type": "code",
   "execution_count": 132,
   "metadata": {},
   "outputs": [],
   "source": [
    "# Join dataframes\n",
    "pubs_merged = pd.merge(pubs, awards, left_on=\"Award Reference\", right_on=\"id\", how='left')\n",
    "projects_merged = pd.merge(collabs, awards, left_on=\"Award Reference\", right_on=\"id\", how='left')\n",
    "tools_merged = pd.merge(tools, awards, left_on=\"Award Reference\", right_on=\"id\", how='left')\n",
    "databases_merged = pd.merge(databases, awards, left_on=\"Award Reference\", right_on=\"id\", how='left')\n",
    "software_merged = pd.merge(software, awards, left_on=\"Award Reference\", right_on=\"id\", how='left')"
   ]
  },
  {
   "cell_type": "code",
   "execution_count": 133,
   "metadata": {
    "tags": []
   },
   "outputs": [],
   "source": [
    "# Collect collaborations\n",
    "COLLABORATIONS = {}\n",
    "for index, p in pubs_merged.iterrows():\n",
    "    COLLABORATIONS.setdefault(p['Outcome Base ID'],[]).append(p['priority area'])\n",
    "\n",
    "for index, p in projects_merged.iterrows():\n",
    "    COLLABORATIONS.setdefault(p['collaboration Base ID'],[]).append(p['priority area'])\n",
    "\n",
    "for index, p in tools_merged.iterrows():\n",
    "    COLLABORATIONS.setdefault(p['Outcome Base ID'],[]).append(p['priority area'])\n",
    "\n",
    "for index, p in databases_merged.iterrows():\n",
    "    COLLABORATIONS.setdefault(p['Outcome Base ID'],[]).append(p['priority area'])\n",
    "\n",
    "for index, p in software_merged.iterrows():\n",
    "    COLLABORATIONS.setdefault(p['Outcome Base ID'],[]).append(p['priority area'])"
   ]
  },
  {
   "cell_type": "code",
   "execution_count": 134,
   "metadata": {},
   "outputs": [],
   "source": [
    "# Build Collaborations map\n",
    "COLLABORATION_MAP = {}\n",
    "for _, values in COLLABORATIONS.items():\n",
    "    values = set(values)\n",
    "    for pa in values:\n",
    "        COLLABORATION_MAP.setdefault(pa, {}).setdefault(pa,0)\n",
    "        COLLABORATION_MAP[pa][pa] += 1\n",
    "        remaining = copy.deepcopy(values)\n",
    "        remaining.remove(pa)\n",
    "        for remaining_pa in remaining:\n",
    "            COLLABORATION_MAP[pa].setdefault(remaining_pa,0)\n",
    "            COLLABORATION_MAP[pa][remaining_pa] += 1"
   ]
  },
  {
   "cell_type": "code",
   "execution_count": 135,
   "metadata": {},
   "outputs": [
    {
     "output_type": "execute_result",
     "data": {
      "text/plain": [
       "[[194, 83, 0, 138, 0, 0, 147, 84, 12],\n",
       " [83, 488, 0, 223, 0, 20, 152, 186, 15],\n",
       " [0, 0, 76, 0, 0, 0, 0, 0, 0],\n",
       " [138, 223, 0, 649, 7, 45, 180, 270, 11],\n",
       " [0, 0, 0, 7, 47, 9, 0, 0, 16],\n",
       " [0, 20, 0, 45, 9, 559, 13, 17, 0],\n",
       " [147, 152, 0, 180, 0, 13, 501, 98, 13],\n",
       " [84, 186, 0, 270, 0, 17, 98, 601, 11],\n",
       " [12, 15, 0, 11, 16, 0, 13, 11, 49]]"
      ]
     },
     "metadata": {},
     "execution_count": 135
    }
   ],
   "source": [
    "# Filter out PRIORITY AREAS\n",
    "# PRIORITY_AREAS = awards['priority area'].unique().tolist()\n",
    "\n",
    "PRIORITY_AREAS = [\n",
    "#  'PPIE',\n",
    " 'Applied Analytics',\n",
    "#  \"Infrastructure\",\n",
    " 'Better Care',\n",
    " 'Data and Connectivity',\n",
    " 'Human Phenome',\n",
    "  'Sprint Exemplars',\n",
    "#  'Training',\n",
    " 'Fellowship',\n",
    " 'Aetiology of Disease',\n",
    " 'Improving Public Health',\n",
    " 'Clinical Trials',\n",
    "]\n",
    "\n",
    "# Generate collaboration Matrix\n",
    "COLLABORATION_MATRIX = []\n",
    "for source_pa in PRIORITY_AREAS:\n",
    "    matrix = []\n",
    "    for target_pa in PRIORITY_AREAS:\n",
    "        matrix.append(COLLABORATION_MAP.get(source_pa, {}).get(target_pa, 0))\n",
    "    COLLABORATION_MATRIX.append(matrix)\n",
    "COLLABORATION_MATRIX"
   ]
  },
  {
   "cell_type": "code",
   "execution_count": 136,
   "metadata": {},
   "outputs": [],
   "source": [
    "# Build Chort Diagram\n",
    "from chord import Chord\n",
    "\n",
    "c = Chord(COLLABORATION_MATRIX, PRIORITY_AREAS,  width=800,\n",
    "        # margin=200,\n",
    "        # colors=\"d3.schemeSet2\",\n",
    "        # colors=f\"d3.schemeGnBu[{len(PRIORITY_AREAS)}]\",\n",
    "        # colors=\"d3.schemeSet2\",\n",
    "        #   curved_labels=True,\n",
    "        arc_numbers=True,\n",
    "        # opacity=0.5,\n",
    "        font_size=\"5px\", font_size_large=\"12px\",\n",
    "        # divide=True, divide_idx=4,\n",
    "        conjunction=\"&\", verb=\"collaborate in\", noun=\"projects\",\n",
    "        title=\"National Priority Area Collaborations\"\n",
    "    )\n",
    "c.to_png()\n",
    "c.to_html()"
   ]
  }
 ],
 "metadata": {
  "kernelspec": {
   "name": "python374jvsc74a57bd07cdbd51de122a285708d1bf4cfe583f4c8eb803cd67619aeadfb56a7c31228cf",
   "display_name": "Python 3.7.4 64-bit ('base': conda)"
  },
  "language_info": {
   "codemirror_mode": {
    "name": "ipython",
    "version": 3
   },
   "file_extension": ".py",
   "mimetype": "text/x-python",
   "name": "python",
   "nbconvert_exporter": "python",
   "pygments_lexer": "ipython3",
   "version": "3.7.4-final"
  },
  "metadata": {
   "interpreter": {
    "hash": "aee8b7b246df8f9039afb4144a1f6fd8d2ca17a180786b69acc140d282b71a49"
   }
  }
 },
 "nbformat": 4,
 "nbformat_minor": 2
}
